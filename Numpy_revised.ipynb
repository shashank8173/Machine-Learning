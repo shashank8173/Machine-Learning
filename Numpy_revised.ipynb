{
 "cells": [
  {
   "cell_type": "code",
   "execution_count": 1,
   "id": "8680a0a7",
   "metadata": {},
   "outputs": [],
   "source": [
    "   import numpy as np"
   ]
  },
  {
   "cell_type": "code",
   "execution_count": 4,
   "id": "5746a2fa",
   "metadata": {},
   "outputs": [
    {
     "data": {
      "text/plain": [
       "[1, 2, 3]"
      ]
     },
     "execution_count": 4,
     "metadata": {},
     "output_type": "execute_result"
    }
   ],
   "source": [
    "l1=[1,2,3]\n",
    "l1"
   ]
  },
  {
   "cell_type": "markdown",
   "id": "b05c37b1",
   "metadata": {},
   "source": [
    "# Create a 1d numpy array using list"
   ]
  },
  {
   "cell_type": "code",
   "execution_count": 5,
   "id": "cd47ee11",
   "metadata": {},
   "outputs": [
    {
     "data": {
      "text/plain": [
       "array([1, 2, 3])"
      ]
     },
     "execution_count": 5,
     "metadata": {},
     "output_type": "execute_result"
    }
   ],
   "source": [
    "a1=np.array(l1)\n",
    "a1"
   ]
  },
  {
   "cell_type": "code",
   "execution_count": 6,
   "id": "226bb9c7",
   "metadata": {},
   "outputs": [
    {
     "data": {
      "text/plain": [
       "numpy.ndarray"
      ]
     },
     "execution_count": 6,
     "metadata": {},
     "output_type": "execute_result"
    }
   ],
   "source": [
    "type(a1)"
   ]
  },
  {
   "cell_type": "code",
   "execution_count": 7,
   "id": "228629c2",
   "metadata": {},
   "outputs": [
    {
     "data": {
      "text/plain": [
       "3"
      ]
     },
     "execution_count": 7,
     "metadata": {},
     "output_type": "execute_result"
    }
   ],
   "source": [
    "a1.size"
   ]
  },
  {
   "cell_type": "code",
   "execution_count": 8,
   "id": "19f4ef31",
   "metadata": {},
   "outputs": [
    {
     "data": {
      "text/plain": [
       "1"
      ]
     },
     "execution_count": 8,
     "metadata": {},
     "output_type": "execute_result"
    }
   ],
   "source": [
    "a1.ndim"
   ]
  },
  {
   "cell_type": "code",
   "execution_count": 9,
   "id": "d3ddb97c",
   "metadata": {},
   "outputs": [
    {
     "data": {
      "text/plain": [
       "(3,)"
      ]
     },
     "execution_count": 9,
     "metadata": {},
     "output_type": "execute_result"
    }
   ],
   "source": [
    "a1.shape"
   ]
  },
  {
   "cell_type": "code",
   "execution_count": 10,
   "id": "c3ac892d",
   "metadata": {},
   "outputs": [
    {
     "data": {
      "text/plain": [
       "array([1, 2, 3])"
      ]
     },
     "execution_count": 10,
     "metadata": {},
     "output_type": "execute_result"
    }
   ],
   "source": [
    "a2=np.array([1,2,3])\n",
    "a2"
   ]
  },
  {
   "cell_type": "code",
   "execution_count": 13,
   "id": "e62c6432",
   "metadata": {},
   "outputs": [],
   "source": [
    "l2=[[1,2,3],[4,5,6]]"
   ]
  },
  {
   "cell_type": "code",
   "execution_count": 14,
   "id": "bf5a679e",
   "metadata": {},
   "outputs": [],
   "source": [
    "a3=np.array(l2)"
   ]
  },
  {
   "cell_type": "code",
   "execution_count": 15,
   "id": "25e604b4",
   "metadata": {},
   "outputs": [
    {
     "data": {
      "text/plain": [
       "array([[1, 2, 3],\n",
       "       [4, 5, 6]])"
      ]
     },
     "execution_count": 15,
     "metadata": {},
     "output_type": "execute_result"
    }
   ],
   "source": [
    "a3"
   ]
  },
  {
   "cell_type": "code",
   "execution_count": 16,
   "id": "71067969",
   "metadata": {},
   "outputs": [],
   "source": [
    "l2.append(5)"
   ]
  },
  {
   "cell_type": "code",
   "execution_count": 17,
   "id": "559c579e",
   "metadata": {},
   "outputs": [
    {
     "data": {
      "text/plain": [
       "[[1, 2, 3], [4, 5, 6], 5]"
      ]
     },
     "execution_count": 17,
     "metadata": {},
     "output_type": "execute_result"
    }
   ],
   "source": [
    "l2"
   ]
  },
  {
   "cell_type": "code",
   "execution_count": 19,
   "id": "7640bf3e",
   "metadata": {},
   "outputs": [
    {
     "data": {
      "text/plain": [
       "array([[1, 2, 3],\n",
       "       [4, 5, 6]])"
      ]
     },
     "execution_count": 19,
     "metadata": {},
     "output_type": "execute_result"
    }
   ],
   "source": [
    "a3"
   ]
  },
  {
   "cell_type": "code",
   "execution_count": 21,
   "id": "673172bd",
   "metadata": {},
   "outputs": [
    {
     "data": {
      "text/plain": [
       "dtype('int32')"
      ]
     },
     "execution_count": 21,
     "metadata": {},
     "output_type": "execute_result"
    }
   ],
   "source": [
    "a3.dtype"
   ]
  },
  {
   "cell_type": "code",
   "execution_count": 23,
   "id": "f08263ef",
   "metadata": {},
   "outputs": [],
   "source": [
    "a4=np.array(l1,dtype='float')"
   ]
  },
  {
   "cell_type": "code",
   "execution_count": 24,
   "id": "48a10148",
   "metadata": {},
   "outputs": [
    {
     "data": {
      "text/plain": [
       "array([[1., 2., 3.],\n",
       "       [4., 5., 6.]])"
      ]
     },
     "execution_count": 24,
     "metadata": {},
     "output_type": "execute_result"
    }
   ],
   "source": [
    "a4"
   ]
  },
  {
   "cell_type": "code",
   "execution_count": 25,
   "id": "4872b4ef",
   "metadata": {},
   "outputs": [
    {
     "data": {
      "text/plain": [
       "2"
      ]
     },
     "execution_count": 25,
     "metadata": {},
     "output_type": "execute_result"
    }
   ],
   "source": [
    "a3.ndim"
   ]
  },
  {
   "cell_type": "code",
   "execution_count": 28,
   "id": "ea177df9",
   "metadata": {},
   "outputs": [],
   "source": [
    "l4=[[[1,2,3],[2,2,2]],[[1,2,3],[2,2,2]],[[1,2,3],[2,2,2]]]"
   ]
  },
  {
   "cell_type": "code",
   "execution_count": 29,
   "id": "4a8d1011",
   "metadata": {},
   "outputs": [],
   "source": [
    "a5=np.array(l4)"
   ]
  },
  {
   "cell_type": "code",
   "execution_count": 30,
   "id": "24dbf35f",
   "metadata": {},
   "outputs": [
    {
     "data": {
      "text/plain": [
       "array([[[1, 2, 3],\n",
       "        [2, 2, 2]],\n",
       "\n",
       "       [[1, 2, 3],\n",
       "        [2, 2, 2]],\n",
       "\n",
       "       [[1, 2, 3],\n",
       "        [2, 2, 2]]])"
      ]
     },
     "execution_count": 30,
     "metadata": {},
     "output_type": "execute_result"
    }
   ],
   "source": [
    "a5"
   ]
  },
  {
   "cell_type": "code",
   "execution_count": 31,
   "id": "74388b60",
   "metadata": {},
   "outputs": [
    {
     "data": {
      "text/plain": [
       "18"
      ]
     },
     "execution_count": 31,
     "metadata": {},
     "output_type": "execute_result"
    }
   ],
   "source": [
    "a5.size"
   ]
  },
  {
   "cell_type": "code",
   "execution_count": 32,
   "id": "551d99e1",
   "metadata": {},
   "outputs": [
    {
     "data": {
      "text/plain": [
       "3"
      ]
     },
     "execution_count": 32,
     "metadata": {},
     "output_type": "execute_result"
    }
   ],
   "source": [
    "a5.ndim"
   ]
  },
  {
   "cell_type": "code",
   "execution_count": 33,
   "id": "7e583574",
   "metadata": {},
   "outputs": [
    {
     "data": {
      "text/plain": [
       "(3, 2, 3)"
      ]
     },
     "execution_count": 33,
     "metadata": {},
     "output_type": "execute_result"
    }
   ],
   "source": [
    "a5.shape"
   ]
  },
  {
   "cell_type": "markdown",
   "id": "295e8f3a",
   "metadata": {},
   "source": [
    "# Functions"
   ]
  },
  {
   "cell_type": "code",
   "execution_count": 34,
   "id": "20d8af65",
   "metadata": {},
   "outputs": [],
   "source": [
    "a6=np.zeros(5)"
   ]
  },
  {
   "cell_type": "code",
   "execution_count": 35,
   "id": "a952dedb",
   "metadata": {},
   "outputs": [
    {
     "data": {
      "text/plain": [
       "array([0., 0., 0., 0., 0.])"
      ]
     },
     "execution_count": 35,
     "metadata": {},
     "output_type": "execute_result"
    }
   ],
   "source": [
    "a6"
   ]
  },
  {
   "cell_type": "code",
   "execution_count": 37,
   "id": "736130be",
   "metadata": {},
   "outputs": [],
   "source": [
    "a7=np.zeros((2,3))"
   ]
  },
  {
   "cell_type": "code",
   "execution_count": 38,
   "id": "90270896",
   "metadata": {},
   "outputs": [
    {
     "data": {
      "text/plain": [
       "array([[0., 0., 0.],\n",
       "       [0., 0., 0.]])"
      ]
     },
     "execution_count": 38,
     "metadata": {},
     "output_type": "execute_result"
    }
   ],
   "source": [
    "a7"
   ]
  },
  {
   "cell_type": "code",
   "execution_count": 39,
   "id": "7fd6c3a6",
   "metadata": {},
   "outputs": [],
   "source": [
    "a8=np.ones(5)"
   ]
  },
  {
   "cell_type": "code",
   "execution_count": 40,
   "id": "a8b36e8f",
   "metadata": {},
   "outputs": [
    {
     "data": {
      "text/plain": [
       "array([1., 1., 1., 1., 1.])"
      ]
     },
     "execution_count": 40,
     "metadata": {},
     "output_type": "execute_result"
    }
   ],
   "source": [
    "a8"
   ]
  },
  {
   "cell_type": "code",
   "execution_count": 46,
   "id": "8a8e2db2",
   "metadata": {},
   "outputs": [],
   "source": [
    "a9=np.ones((2,3))a"
   ]
  },
  {
   "cell_type": "code",
   "execution_count": 47,
   "id": "42355b13",
   "metadata": {},
   "outputs": [
    {
     "data": {
      "text/plain": [
       "array([[1., 1., 1.],\n",
       "       [1., 1., 1.]])"
      ]
     },
     "execution_count": 47,
     "metadata": {},
     "output_type": "execute_result"
    }
   ],
   "source": [
    "a9"
   ]
  },
  {
   "cell_type": "code",
   "execution_count": 48,
   "id": "6de9a530",
   "metadata": {},
   "outputs": [
    {
     "data": {
      "text/plain": [
       "dtype('float64')"
      ]
     },
     "execution_count": 48,
     "metadata": {},
     "output_type": "execute_result"
    }
   ],
   "source": [
    "a9.dtype"
   ]
  },
  {
   "cell_type": "markdown",
   "id": "d06c96f2",
   "metadata": {},
   "source": [
    "# convert float to int "
   ]
  },
  {
   "cell_type": "code",
   "execution_count": 50,
   "id": "649d7bda",
   "metadata": {},
   "outputs": [],
   "source": [
    "a10=a9.astype('int')"
   ]
  },
  {
   "cell_type": "code",
   "execution_count": 51,
   "id": "16e785b0",
   "metadata": {},
   "outputs": [
    {
     "data": {
      "text/plain": [
       "array([[1, 1, 1],\n",
       "       [1, 1, 1]])"
      ]
     },
     "execution_count": 51,
     "metadata": {},
     "output_type": "execute_result"
    }
   ],
   "source": [
    "a10"
   ]
  },
  {
   "cell_type": "code",
   "execution_count": 52,
   "id": "53168825",
   "metadata": {},
   "outputs": [
    {
     "data": {
      "text/plain": [
       "array([[1., 0., 0., 0., 0.],\n",
       "       [0., 1., 0., 0., 0.],\n",
       "       [0., 0., 1., 0., 0.],\n",
       "       [0., 0., 0., 1., 0.],\n",
       "       [0., 0., 0., 0., 1.]])"
      ]
     },
     "execution_count": 52,
     "metadata": {},
     "output_type": "execute_result"
    }
   ],
   "source": [
    "a11=np.eye(5)\n",
    "a11"
   ]
  },
  {
   "cell_type": "code",
   "execution_count": 53,
   "id": "2c641381",
   "metadata": {},
   "outputs": [],
   "source": [
    "a12=np.eye(3,5)"
   ]
  },
  {
   "cell_type": "code",
   "execution_count": 54,
   "id": "26873594",
   "metadata": {},
   "outputs": [
    {
     "data": {
      "text/plain": [
       "array([[1., 0., 0., 0., 0.],\n",
       "       [0., 1., 0., 0., 0.],\n",
       "       [0., 0., 1., 0., 0.]])"
      ]
     },
     "execution_count": 54,
     "metadata": {},
     "output_type": "execute_result"
    }
   ],
   "source": [
    "a12"
   ]
  },
  {
   "cell_type": "code",
   "execution_count": 55,
   "id": "9cc3b527",
   "metadata": {},
   "outputs": [
    {
     "data": {
      "text/plain": [
       "array([1., 0., 0., 0., 0., 0., 1., 0., 0., 0., 0., 0., 1., 0., 0.])"
      ]
     },
     "execution_count": 55,
     "metadata": {},
     "output_type": "execute_result"
    }
   ],
   "source": [
    "a12.flatten()"
   ]
  },
  {
   "cell_type": "code",
   "execution_count": 56,
   "id": "10f9e851",
   "metadata": {},
   "outputs": [
    {
     "data": {
      "text/plain": [
       "array([1., 1., 1., 1., 1.])"
      ]
     },
     "execution_count": 56,
     "metadata": {},
     "output_type": "execute_result"
    }
   ],
   "source": [
    "np.diag(a11)"
   ]
  },
  {
   "cell_type": "markdown",
   "id": "34709b78",
   "metadata": {},
   "source": [
    "# Random"
   ]
  },
  {
   "cell_type": "code",
   "execution_count": 57,
   "id": "693ab5ba",
   "metadata": {},
   "outputs": [],
   "source": [
    "a13=np.random.rand(3,2)"
   ]
  },
  {
   "cell_type": "code",
   "execution_count": 58,
   "id": "75e670c9",
   "metadata": {},
   "outputs": [
    {
     "data": {
      "text/plain": [
       "array([[0.7075654 , 0.10422403],\n",
       "       [0.49388409, 0.64126959],\n",
       "       [0.03012067, 0.07285101]])"
      ]
     },
     "execution_count": 58,
     "metadata": {},
     "output_type": "execute_result"
    }
   ],
   "source": [
    "a13"
   ]
  },
  {
   "cell_type": "code",
   "execution_count": 59,
   "id": "773f2ebf",
   "metadata": {},
   "outputs": [
    {
     "data": {
      "text/plain": [
       "array([[0.7075654 , 0.10422403],\n",
       "       [0.49388409, 0.64126959],\n",
       "       [0.03012067, 0.07285101]])"
      ]
     },
     "execution_count": 59,
     "metadata": {},
     "output_type": "execute_result"
    }
   ],
   "source": [
    "a13"
   ]
  },
  {
   "cell_type": "code",
   "execution_count": 60,
   "id": "f8f27504",
   "metadata": {},
   "outputs": [],
   "source": [
    "a14=np.random.rand(5)"
   ]
  },
  {
   "cell_type": "code",
   "execution_count": 61,
   "id": "9b8bd202",
   "metadata": {},
   "outputs": [
    {
     "data": {
      "text/plain": [
       "array([0.07416107, 0.59355797, 0.9663603 , 0.27371138, 0.40923675])"
      ]
     },
     "execution_count": 61,
     "metadata": {},
     "output_type": "execute_result"
    }
   ],
   "source": [
    "a14"
   ]
  },
  {
   "cell_type": "markdown",
   "id": "8f456c1b",
   "metadata": {},
   "source": [
    "# Randint"
   ]
  },
  {
   "cell_type": "code",
   "execution_count": 64,
   "id": "246dff38",
   "metadata": {},
   "outputs": [],
   "source": [
    "a15=np.random.randint(1,10,size=(3,3),dtype='int')"
   ]
  },
  {
   "cell_type": "code",
   "execution_count": 65,
   "id": "56175715",
   "metadata": {},
   "outputs": [
    {
     "data": {
      "text/plain": [
       "array([[1, 6, 1],\n",
       "       [4, 6, 7],\n",
       "       [8, 9, 9]])"
      ]
     },
     "execution_count": 65,
     "metadata": {},
     "output_type": "execute_result"
    }
   ],
   "source": [
    "a15"
   ]
  },
  {
   "cell_type": "code",
   "execution_count": 66,
   "id": "21402d83",
   "metadata": {},
   "outputs": [],
   "source": [
    "a16=np.random.randint(1,30,size=(3,3),dtype='int')"
   ]
  },
  {
   "cell_type": "code",
   "execution_count": 67,
   "id": "8d0b7277",
   "metadata": {},
   "outputs": [
    {
     "data": {
      "text/plain": [
       "array([[23,  9,  9],\n",
       "       [ 4, 19, 16],\n",
       "       [ 8, 26, 27]])"
      ]
     },
     "execution_count": 67,
     "metadata": {},
     "output_type": "execute_result"
    }
   ],
   "source": [
    "a16"
   ]
  },
  {
   "cell_type": "code",
   "execution_count": 68,
   "id": "ecd0842d",
   "metadata": {},
   "outputs": [],
   "source": [
    "a17=a16.astype('float')"
   ]
  },
  {
   "cell_type": "code",
   "execution_count": 69,
   "id": "6b489474",
   "metadata": {},
   "outputs": [
    {
     "data": {
      "text/plain": [
       "array([[23.,  9.,  9.],\n",
       "       [ 4., 19., 16.],\n",
       "       [ 8., 26., 27.]])"
      ]
     },
     "execution_count": 69,
     "metadata": {},
     "output_type": "execute_result"
    }
   ],
   "source": [
    "a17"
   ]
  },
  {
   "cell_type": "markdown",
   "id": "2a86efad",
   "metadata": {},
   "source": [
    "# randn-Random Number Generation"
   ]
  },
  {
   "cell_type": "code",
   "execution_count": 70,
   "id": "4c4f21c7",
   "metadata": {},
   "outputs": [],
   "source": [
    "a18=np.random.randn(2,4)"
   ]
  },
  {
   "cell_type": "code",
   "execution_count": 71,
   "id": "80473ff2",
   "metadata": {},
   "outputs": [
    {
     "data": {
      "text/plain": [
       "array([[-0.7319507 ,  0.07792024, -0.47399969, -0.75864397],\n",
       "       [-0.50228701,  0.84654219,  1.78798001, -0.87834397]])"
      ]
     },
     "execution_count": 71,
     "metadata": {},
     "output_type": "execute_result"
    }
   ],
   "source": [
    "a18"
   ]
  },
  {
   "cell_type": "code",
   "execution_count": 72,
   "id": "03de2a9e",
   "metadata": {},
   "outputs": [
    {
     "data": {
      "text/plain": [
       "array([ 1,  2,  3,  4,  5,  6,  7,  8,  9, 10])"
      ]
     },
     "execution_count": 72,
     "metadata": {},
     "output_type": "execute_result"
    }
   ],
   "source": [
    "a19=np.arange(1,11)\n",
    "a19"
   ]
  },
  {
   "cell_type": "code",
   "execution_count": 73,
   "id": "6273067e",
   "metadata": {},
   "outputs": [
    {
     "data": {
      "text/plain": [
       "array([[ 1,  2],\n",
       "       [ 3,  4],\n",
       "       [ 5,  6],\n",
       "       [ 7,  8],\n",
       "       [ 9, 10]])"
      ]
     },
     "execution_count": 73,
     "metadata": {},
     "output_type": "execute_result"
    }
   ],
   "source": [
    "a19.reshape(5,2)"
   ]
  },
  {
   "cell_type": "code",
   "execution_count": 74,
   "id": "6faeee3a",
   "metadata": {},
   "outputs": [],
   "source": [
    "a20=a19.reshape(2,5)"
   ]
  },
  {
   "cell_type": "code",
   "execution_count": 75,
   "id": "4e4bdab2",
   "metadata": {},
   "outputs": [
    {
     "data": {
      "text/plain": [
       "(2, 5)"
      ]
     },
     "execution_count": 75,
     "metadata": {},
     "output_type": "execute_result"
    }
   ],
   "source": [
    "a20.shape"
   ]
  },
  {
   "cell_type": "code",
   "execution_count": 78,
   "id": "8c156ac6",
   "metadata": {},
   "outputs": [],
   "source": [
    "a21=np.random.randint(1,100,50)"
   ]
  },
  {
   "cell_type": "code",
   "execution_count": 79,
   "id": "591129cf",
   "metadata": {},
   "outputs": [
    {
     "data": {
      "text/plain": [
       "array([35, 29, 35, 48, 13, 87, 75, 88, 63, 45, 72, 70, 46, 99, 84, 55, 14,\n",
       "       84, 60, 27,  2, 45, 95, 27, 87, 72, 65, 11, 76, 23, 37, 87, 76, 60,\n",
       "       71, 75, 81, 92,  4, 79, 65, 56, 71, 75, 12,  6, 36, 85, 88, 18])"
      ]
     },
     "execution_count": 79,
     "metadata": {},
     "output_type": "execute_result"
    }
   ],
   "source": [
    "a21"
   ]
  },
  {
   "cell_type": "code",
   "execution_count": 80,
   "id": "397e1d81",
   "metadata": {},
   "outputs": [],
   "source": [
    "a22=a21.reshape(2,5,5)"
   ]
  },
  {
   "cell_type": "code",
   "execution_count": 81,
   "id": "28dd94f8",
   "metadata": {},
   "outputs": [
    {
     "data": {
      "text/plain": [
       "array([[[35, 29, 35, 48, 13],\n",
       "        [87, 75, 88, 63, 45],\n",
       "        [72, 70, 46, 99, 84],\n",
       "        [55, 14, 84, 60, 27],\n",
       "        [ 2, 45, 95, 27, 87]],\n",
       "\n",
       "       [[72, 65, 11, 76, 23],\n",
       "        [37, 87, 76, 60, 71],\n",
       "        [75, 81, 92,  4, 79],\n",
       "        [65, 56, 71, 75, 12],\n",
       "        [ 6, 36, 85, 88, 18]]])"
      ]
     },
     "execution_count": 81,
     "metadata": {},
     "output_type": "execute_result"
    }
   ],
   "source": [
    "a22"
   ]
  },
  {
   "cell_type": "code",
   "execution_count": 82,
   "id": "819b68ad",
   "metadata": {},
   "outputs": [
    {
     "data": {
      "text/plain": [
       "array([[35, 29],\n",
       "       [35, 48],\n",
       "       [13, 87],\n",
       "       [75, 88],\n",
       "       [63, 45],\n",
       "       [72, 70],\n",
       "       [46, 99],\n",
       "       [84, 55],\n",
       "       [14, 84],\n",
       "       [60, 27],\n",
       "       [ 2, 45],\n",
       "       [95, 27],\n",
       "       [87, 72],\n",
       "       [65, 11],\n",
       "       [76, 23],\n",
       "       [37, 87],\n",
       "       [76, 60],\n",
       "       [71, 75],\n",
       "       [81, 92],\n",
       "       [ 4, 79],\n",
       "       [65, 56],\n",
       "       [71, 75],\n",
       "       [12,  6],\n",
       "       [36, 85],\n",
       "       [88, 18]])"
      ]
     },
     "execution_count": 82,
     "metadata": {},
     "output_type": "execute_result"
    }
   ],
   "source": [
    "a23=a22.reshape(-1,2)\n",
    "a23"
   ]
  },
  {
   "cell_type": "code",
   "execution_count": 83,
   "id": "0b731d6f",
   "metadata": {},
   "outputs": [],
   "source": [
    "a24=a22.reshape(2,-1)"
   ]
  },
  {
   "cell_type": "code",
   "execution_count": 84,
   "id": "b7069838",
   "metadata": {},
   "outputs": [
    {
     "data": {
      "text/plain": [
       "array([[35, 29, 35, 48, 13, 87, 75, 88, 63, 45, 72, 70, 46, 99, 84, 55,\n",
       "        14, 84, 60, 27,  2, 45, 95, 27, 87],\n",
       "       [72, 65, 11, 76, 23, 37, 87, 76, 60, 71, 75, 81, 92,  4, 79, 65,\n",
       "        56, 71, 75, 12,  6, 36, 85, 88, 18]])"
      ]
     },
     "execution_count": 84,
     "metadata": {},
     "output_type": "execute_result"
    }
   ],
   "source": [
    "a24"
   ]
  },
  {
   "cell_type": "markdown",
   "id": "ae82e8f7",
   "metadata": {},
   "source": [
    "# Indexing"
   ]
  },
  {
   "cell_type": "code",
   "execution_count": 85,
   "id": "aef72683",
   "metadata": {},
   "outputs": [],
   "source": [
    "a25=np.random.randint(1,10,size=(3,3),dtype='int')"
   ]
  },
  {
   "cell_type": "code",
   "execution_count": 86,
   "id": "003631ad",
   "metadata": {},
   "outputs": [
    {
     "data": {
      "text/plain": [
       "array([[1, 4, 5],\n",
       "       [5, 9, 1],\n",
       "       [5, 6, 4]])"
      ]
     },
     "execution_count": 86,
     "metadata": {},
     "output_type": "execute_result"
    }
   ],
   "source": [
    "a25"
   ]
  },
  {
   "cell_type": "code",
   "execution_count": 87,
   "id": "da7efe14",
   "metadata": {},
   "outputs": [
    {
     "data": {
      "text/plain": [
       "1"
      ]
     },
     "execution_count": 87,
     "metadata": {},
     "output_type": "execute_result"
    }
   ],
   "source": [
    "a25[0][0]"
   ]
  },
  {
   "cell_type": "code",
   "execution_count": 88,
   "id": "f0d686f5",
   "metadata": {},
   "outputs": [
    {
     "data": {
      "text/plain": [
       "array([5, 6, 4])"
      ]
     },
     "execution_count": 88,
     "metadata": {},
     "output_type": "execute_result"
    }
   ],
   "source": [
    "a25[2]"
   ]
  },
  {
   "cell_type": "code",
   "execution_count": 90,
   "id": "8d33af48",
   "metadata": {},
   "outputs": [
    {
     "data": {
      "text/plain": [
       "array([[1, 4, 5],\n",
       "       [5, 9, 1]])"
      ]
     },
     "execution_count": 90,
     "metadata": {},
     "output_type": "execute_result"
    }
   ],
   "source": [
    "a25[:2]"
   ]
  },
  {
   "cell_type": "code",
   "execution_count": 91,
   "id": "e1a9c036",
   "metadata": {},
   "outputs": [
    {
     "data": {
      "text/plain": [
       "array([[1, 4, 5]])"
      ]
     },
     "execution_count": 91,
     "metadata": {},
     "output_type": "execute_result"
    }
   ],
   "source": [
    "a25[0:2:2]"
   ]
  },
  {
   "cell_type": "code",
   "execution_count": 92,
   "id": "8b4383c3",
   "metadata": {},
   "outputs": [
    {
     "data": {
      "text/plain": [
       "array([[1, 4, 5]])"
      ]
     },
     "execution_count": 92,
     "metadata": {},
     "output_type": "execute_result"
    }
   ],
   "source": [
    "a25[0:2:3]"
   ]
  },
  {
   "cell_type": "markdown",
   "id": "a389f93c",
   "metadata": {},
   "source": [
    "# Reverse array"
   ]
  },
  {
   "cell_type": "code",
   "execution_count": 93,
   "id": "8a9d54ec",
   "metadata": {},
   "outputs": [
    {
     "data": {
      "text/plain": [
       "array([[5, 6, 4],\n",
       "       [5, 9, 1],\n",
       "       [1, 4, 5]])"
      ]
     },
     "execution_count": 93,
     "metadata": {},
     "output_type": "execute_result"
    }
   ],
   "source": [
    "a26=a25[::-1]\n",
    "a26"
   ]
  },
  {
   "cell_type": "code",
   "execution_count": 94,
   "id": "07ed4ed9",
   "metadata": {},
   "outputs": [
    {
     "data": {
      "text/plain": [
       "9"
      ]
     },
     "execution_count": 94,
     "metadata": {},
     "output_type": "execute_result"
    }
   ],
   "source": [
    "a25[1,1]"
   ]
  },
  {
   "cell_type": "code",
   "execution_count": 95,
   "id": "909a900d",
   "metadata": {},
   "outputs": [
    {
     "data": {
      "text/plain": [
       "1"
      ]
     },
     "execution_count": 95,
     "metadata": {},
     "output_type": "execute_result"
    }
   ],
   "source": [
    "a25[0,0]"
   ]
  },
  {
   "cell_type": "markdown",
   "id": "80b2b64c",
   "metadata": {},
   "source": [
    "# slicing"
   ]
  },
  {
   "cell_type": "code",
   "execution_count": 96,
   "id": "530cf7f2",
   "metadata": {},
   "outputs": [
    {
     "data": {
      "text/plain": [
       "array([[1, 4],\n",
       "       [5, 9]])"
      ]
     },
     "execution_count": 96,
     "metadata": {},
     "output_type": "execute_result"
    }
   ],
   "source": [
    "a25[0:2,0:2]"
   ]
  },
  {
   "cell_type": "code",
   "execution_count": 97,
   "id": "72995d45",
   "metadata": {},
   "outputs": [
    {
     "data": {
      "text/plain": [
       "array([[9, 1],\n",
       "       [6, 4]])"
      ]
     },
     "execution_count": 97,
     "metadata": {},
     "output_type": "execute_result"
    }
   ],
   "source": [
    "a25[1: ,1:]"
   ]
  },
  {
   "cell_type": "code",
   "execution_count": 98,
   "id": "c694ac29",
   "metadata": {},
   "outputs": [
    {
     "data": {
      "text/plain": [
       "array([[3, 3, 2, 4],\n",
       "       [2, 3, 4, 3]])"
      ]
     },
     "execution_count": 98,
     "metadata": {},
     "output_type": "execute_result"
    }
   ],
   "source": [
    "np.random.randint(5,size=(2,4))"
   ]
  },
  {
   "cell_type": "code",
   "execution_count": 99,
   "id": "01b049aa",
   "metadata": {},
   "outputs": [
    {
     "data": {
      "text/plain": [
       "array([ 1. , 15.5, 30. ])"
      ]
     },
     "execution_count": 99,
     "metadata": {},
     "output_type": "execute_result"
    }
   ],
   "source": [
    "np.linspace(1,30,3)"
   ]
  },
  {
   "cell_type": "code",
   "execution_count": null,
   "id": "a7c992e7",
   "metadata": {},
   "outputs": [],
   "source": []
  }
 ],
 "metadata": {
  "kernelspec": {
   "display_name": "Python 3 (ipykernel)",
   "language": "python",
   "name": "python3"
  },
  "language_info": {
   "codemirror_mode": {
    "name": "ipython",
    "version": 3
   },
   "file_extension": ".py",
   "mimetype": "text/x-python",
   "name": "python",
   "nbconvert_exporter": "python",
   "pygments_lexer": "ipython3",
   "version": "3.10.2"
  }
 },
 "nbformat": 4,
 "nbformat_minor": 5
}
